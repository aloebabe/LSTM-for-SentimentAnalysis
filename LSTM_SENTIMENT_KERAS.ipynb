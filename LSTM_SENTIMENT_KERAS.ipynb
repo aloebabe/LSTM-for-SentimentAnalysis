{
 "cells": [
  {
   "cell_type": "markdown",
   "metadata": {},
   "source": [
    "# LSTM Networks for Sentiment Analysis with Keras: Guide for Complete Beginners"
   ]
  },
  {
   "cell_type": "markdown",
   "metadata": {},
   "source": [
    "# What is Keras?"
   ]
  },
  {
   "cell_type": "markdown",
   "metadata": {},
   "source": [
    "Deep learning is one of the hottest fields in data science. Keras is one of the most powerful Python for devolping deep learning models and it is very user-friendly. \n",
    "\n",
    "Keras supports multiple backend engines:\n",
    "* The TensorFlow backend (from Google)\n",
    "* The CNTK backend (from Microsoft)\n",
    "* The Theano backend\n",
    "* MXNet backend (from Amazon)\n",
    "\n",
    "Keras Documentation:https://keras.io/"
   ]
  },
  {
   "cell_type": "markdown",
   "metadata": {},
   "source": [
    "# Why Keras?"
   ]
  },
  {
   "cell_type": "markdown",
   "metadata": {},
   "source": [
    "* You can easily build and test a neural network model with just several lines of code.\n",
    "* You cannot do such a easy job by Tensorflow. (More time to go through the documentation and more lines to code.)"
   ]
  },
  {
   "cell_type": "markdown",
   "metadata": {},
   "source": [
    "# Installation"
   ]
  },
  {
   "cell_type": "markdown",
   "metadata": {},
   "source": [
    "* Notice that TensorFlow is only supported with Python 3.5 and 3.6 for 64-bit windows. But my python version is 2.7. \n",
    "* To use TensorFlow as the backend, we need to create a new environment for Python 3.6 in Anaconda Prompt. \n",
    "* See: https://conda.io/docs/user-guide/tasks/manage-python.html"
   ]
  },
  {
   "cell_type": "markdown",
   "metadata": {},
   "source": [
    "### step 1: Create a new environment and install Python 3.6"
   ]
  },
  {
   "cell_type": "markdown",
   "metadata": {},
   "source": [
    "conda create -n py36 python=3.6 anaconda"
   ]
  },
  {
   "cell_type": "markdown",
   "metadata": {},
   "source": [
    "### step 2: Activate the new environment.\n",
    "* On Windows, in your Anaconda Prompt, to activate this environment, use:\n",
    "activate py36\n",
    "\n",
    "* To deactivate an active environment, use:\n",
    "deactivate"
   ]
  },
  {
   "cell_type": "markdown",
   "metadata": {},
   "source": [
    "### step 3: Install TensorFlow"
   ]
  },
  {
   "cell_type": "markdown",
   "metadata": {},
   "source": [
    "* The manual of TensorFlow confused me as a beginner.\n",
    "* I recommend the video below to anyone for this step. \n",
    "\n",
    "**Check this out. It is very easy to follow.**\n",
    "\n",
    "https://medium.com/@viveksingh.heritage/how-to-install-tensorflow-gpu-version-with-jupyter-windows-10-in-8-easy-steps-8797547028a4"
   ]
  },
  {
   "cell_type": "code",
   "execution_count": 9,
   "metadata": {},
   "outputs": [],
   "source": [
    "# we upgrade pip first\n",
    "# python -m pip install --upgrade pip\n",
    "\n",
    "# then we can use pip3 to install TensorFlow\n",
    "# pip3 install --upgrade tensorflow"
   ]
  },
  {
   "cell_type": "markdown",
   "metadata": {},
   "source": [
    "### step 4: Install the following optional dependencies:\n",
    "\n",
    "#### Reference: https://keras.io/\n",
    "* cuDNN (recommended if you plan on running Keras on GPU)\n",
    "* HDF5 and h5py (required if you plan on saving Keras models to disk).\n",
    "* graphviz and pydot (used by visualization utilities to plot model graphs)."
   ]
  },
  {
   "cell_type": "markdown",
   "metadata": {},
   "source": [
    "#### Install cuDNN (You don't need to if you don't have GPU in your computer.)\n",
    "\n",
    "* cuDNN Installation guide:https://docs.nvidia.com/deeplearning/sdk/cudnn-install/. Check ** part 3:Installing cuDNN on Windows** for details.\n",
    "* Find and download the right driver for your GPU. For example, my GPU is NVIDIA GeForce 1060 and it's windows 10 64-bit. I will download the driver according to this information.\n",
    "* Install the driver and restart your system to ensure the driver takes effect.\n",
    "* Download and install CUDA toolkit for Windows. Make sure you intall the base installer and all patches. (I install the latest 9.1 version)\n",
    "* Download and install cuDNN for CUDA 9.1 for Windows 10."
   ]
  },
  {
   "cell_type": "markdown",
   "metadata": {},
   "source": [
    "#### install h5py\n",
    "* pip install h5py"
   ]
  },
  {
   "cell_type": "markdown",
   "metadata": {},
   "source": [
    "#### install graphviz \n",
    "* pip install graphviz"
   ]
  },
  {
   "cell_type": "markdown",
   "metadata": {},
   "source": [
    "#### install pydot\n",
    "* pip install pydot"
   ]
  },
  {
   "cell_type": "code",
   "execution_count": 10,
   "metadata": {},
   "outputs": [
    {
     "data": {
      "text/html": [
       "<img src = \"https://c2.staticflickr.com/6/5259/5457536703_fd22ca16ca_b.jpg\">"
      ],
      "text/plain": [
       "<IPython.core.display.HTML object>"
      ]
     },
     "metadata": {},
     "output_type": "display_data"
    }
   ],
   "source": [
    "%%html\n",
    "<img src = \"https://c2.staticflickr.com/6/5259/5457536703_fd22ca16ca_b.jpg\">"
   ]
  },
  {
   "cell_type": "markdown",
   "metadata": {},
   "source": [
    "### step 5: Update Keras to use TensorFlow as backend"
   ]
  },
  {
   "cell_type": "code",
   "execution_count": 12,
   "metadata": {},
   "outputs": [],
   "source": [
    "# import Tensorflow before using Keras.\n",
    "import tensorflow as tf\n",
    "\n",
    "# check if your computer identifies the GPU or CPU. \n",
    "sess = tf.Session(config=tf.ConfigProto(log_device_placement=True))\n",
    "\n",
    "import keras\n",
    "\n",
    "# set the backend.\n",
    "from keras import backend as K\n",
    "K.set_session(sess)"
   ]
  },
  {
   "cell_type": "markdown",
   "metadata": {},
   "source": [
    "### Can Keras with Tensorflow backend be forced to use CPU or GPU at will?"
   ]
  },
  {
   "cell_type": "markdown",
   "metadata": {},
   "source": [
    "Yes it can! \n",
    "See: https://stackoverflow.com/questions/40690598/can-keras-with-tensorflow-backend-be-forced-to-use-cpu-or-gpu-at-will"
   ]
  },
  {
   "cell_type": "markdown",
   "metadata": {},
   "source": [
    "# Background Knowledge of LSTM Network"
   ]
  },
  {
   "cell_type": "markdown",
   "metadata": {},
   "source": [
    "###  Long-term memory can loss"
   ]
  },
  {
   "cell_type": "code",
   "execution_count": 13,
   "metadata": {},
   "outputs": [
    {
     "data": {
      "text/html": [
       "<img src = \"https://www.learningsolutionsmag.com/assets/images/learningsolutions/2014/140410/1400-figure1.jpg\">"
      ],
      "text/plain": [
       "<IPython.core.display.HTML object>"
      ]
     },
     "metadata": {},
     "output_type": "display_data"
    }
   ],
   "source": [
    "%%html\n",
    "<img src = \"https://www.learningsolutionsmag.com/assets/images/learningsolutions/2014/140410/1400-figure1.jpg\">"
   ]
  },
  {
   "cell_type": "markdown",
   "metadata": {},
   "source": [
    "According to Ebbinghaus forgetting curve, the strength of memory declines as the time goes by. We should transfer our short-term memory to long-term memory in order to improve our memory.\n",
    "\n",
    "In the deep learning, we train the algorithm by feeding tons of data to it. To improve the performance, it need to has better learning method (i.e., better structure in the algorithm) to enhance the memory. LSTM network is one of the most popular deep learning algorithms which is specilized to recognize and classify human actions. "
   ]
  },
  {
   "cell_type": "markdown",
   "metadata": {},
   "source": [
    "### LSTM Network- A Special Type of RNN Network"
   ]
  },
  {
   "cell_type": "markdown",
   "metadata": {
    "collapsed": true
   },
   "source": [
    "The traditional RNN (Recurrent Neutral Network) model depends on long-term memory. It seeks to establish the connetction between the final output with the events many steps before. Discrepancies of events are related to each other and carry through multiplication in the gradient. Thus, eventally, the gradient is susceptible to exploding (if the discrepancies are large) or vanishing (if the discrepancies in the previous events are small) so that degrade recurrent net performance. In short, the classical RNN's momery retention will go down with long sequence learning. \n",
    "\n",
    "To slove the \"vanishing gradient\" problem in the RNN, Hochreiter and Schmidhuber (1997) introduce a new structure called \"memory cell\" in the RNN. \n",
    "\n",
    "The memory cell contains four main elements: input gate, forget gate, output gate and self-recurrent connection. (** see detailed explaination ** in http://deeplearning.net/tutorial/lstm.html#code)\n",
    "\n",
    "This RNN model with memory cell is called ** LSTM (long-short term memory) ** model. It allows machine to maintain very good short-term memory and adds a forgetting mechanism which is tolernce of 'errors' in the events long time ago.\n",
    "\n",
    "\n",
    "Video tutorial:\n",
    "* https://www.youtube.com/watch?v=y7qrilE-Zlc\n",
    "\n",
    "\n",
    "Other References: \n",
    "\n",
    "* http://blog.echen.me/2017/05/30/exploring-lstms/\n",
    "* https://medium.com/mlreview/understanding-lstm-and-its-diagrams-37e2f46f1714\n",
    "* http://colah.github.io/posts/2015-08-Understanding-LSTMs/\n",
    "* https://www.topbots.com/exploring-lstm-tutorial-part-1-recurrent-neural-network-deep-learning/\n",
    "* https://www.topbots.com/exploring-lstm-tutorial-part-2-recurrent-neural-network-deep-learning/\n",
    "* https://www.researchgate.net/publication/13853244_Long_Short-term_Memory"
   ]
  },
  {
   "cell_type": "markdown",
   "metadata": {},
   "source": [
    "#### The Stucture of LSTM Network"
   ]
  },
  {
   "cell_type": "code",
   "execution_count": 14,
   "metadata": {},
   "outputs": [
    {
     "data": {
      "text/html": [
       "<img src = \"http://i.imgur.com/EGZIUuc.pngg\">"
      ],
      "text/plain": [
       "<IPython.core.display.HTML object>"
      ]
     },
     "metadata": {},
     "output_type": "display_data"
    }
   ],
   "source": [
    "%%html\n",
    "<img src = \"http://i.imgur.com/EGZIUuc.pngg\">"
   ]
  },
  {
   "cell_type": "markdown",
   "metadata": {},
   "source": [
    "* The network in LSTM is keeping updated."
   ]
  },
  {
   "cell_type": "markdown",
   "metadata": {},
   "source": [
    "#### The Structure of memory cell of LSTM"
   ]
  },
  {
   "cell_type": "code",
   "execution_count": 15,
   "metadata": {},
   "outputs": [
    {
     "data": {
      "text/html": [
       "<img src = \"http://www.techenablement.com/wp-content/uploads/2014/12/Screenshot-from-2014-12-04-091437.png\">"
      ],
      "text/plain": [
       "<IPython.core.display.HTML object>"
      ]
     },
     "metadata": {},
     "output_type": "display_data"
    }
   ],
   "source": [
    "%%html\n",
    "<img src = \"http://www.techenablement.com/wp-content/uploads/2014/12/Screenshot-from-2014-12-04-091437.png\">"
   ]
  },
  {
   "cell_type": "markdown",
   "metadata": {},
   "source": [
    "###  What LSTM can do?"
   ]
  },
  {
   "cell_type": "markdown",
   "metadata": {},
   "source": [
    "* Speech recognition\n",
    "* Handwriting recognition\n",
    "* Image captioning\n",
    "* ....\n",
    "\n",
    "\n",
    "See: https://www.quora.com/What-are-the-various-applications-where-LSTM-networks-have-been-successfully-used"
   ]
  },
  {
   "cell_type": "markdown",
   "metadata": {},
   "source": [
    "# Discription\n",
    "\n",
    "### Data\n",
    "* This data originally came from Sentiment140 dataset. (See: https://www.kaggle.com/kazanova/sentiment140).\n",
    "* Here, the dataset contains about 1.5 million tweets, each is marked as either 1 for positive sentiment or 0 for negative sentiment. (See: http://thinknook.com/twitter-sentiment-analysis-training-corpus-dataset-2012-09-22/).\n",
    "\n",
    "### Code\n",
    "I adapt, combine and modify codes from the following articles:\n",
    "* https://dzone.com/articles/sentiment-analysis-on-us-twitter-airlines-dataset.\n",
    "* https://machinelearningmastery.com/evaluate-performance-deep-learning-models-keras/\n",
    "* https://keras.io/getting-started/sequential-model-guide/#training\n",
    "* https://pandas.pydata.org/pandas-docs/stable/text.html\n",
    "* https://github.com/keras-team/keras/issues/8315 \n",
    "* https://stackoverflow.com/questions/47663759/reshaping-train-and-test-sets-for-lstms-in-keras"
   ]
  },
  {
   "cell_type": "markdown",
   "metadata": {},
   "source": [
    "# Let's play with Keras!"
   ]
  },
  {
   "cell_type": "code",
   "execution_count": 16,
   "metadata": {},
   "outputs": [],
   "source": [
    "# import packages\n",
    "import re\n",
    "import multiprocessing\n",
    "import csv\n",
    "import pandas as pd\n",
    "import numpy as np\n",
    "import os\n",
    "from keras.preprocessing.sequence import pad_sequences\n",
    "from keras.preprocessing.text import Tokenizer \n",
    "from keras.layers.merge import concatenate\n",
    "from keras.models import Sequential, Model\n",
    "from keras.layers import Dense, Embedding, Activation, merge, Input, Lambda, Reshape\n",
    "from keras.layers import Convolution1D, Flatten, Dropout, MaxPool1D, GlobalAveragePooling1D\n",
    "from keras.layers import LSTM, GRU, TimeDistributed, Bidirectional\n",
    "from keras.optimizers import SGD\n",
    "from keras.utils import np_utils\n",
    "from keras.utils.np_utils import to_categorical\n",
    "from keras import initializers\n",
    "from keras.engine.topology import Layer\n",
    "from sklearn.naive_bayes import MultinomialNB\n",
    "from sklearn.linear_model import SGDClassifier\n",
    "from sklearn.feature_extraction.text import TfidfVectorizer\n",
    "from sklearn.model_selection import train_test_split\n",
    "from sklearn.utils import shuffle"
   ]
  },
  {
   "cell_type": "markdown",
   "metadata": {},
   "source": [
    "### Load the data"
   ]
  },
  {
   "cell_type": "code",
   "execution_count": 17,
   "metadata": {},
   "outputs": [
    {
     "data": {
      "text/html": [
       "<div>\n",
       "<style scoped>\n",
       "    .dataframe tbody tr th:only-of-type {\n",
       "        vertical-align: middle;\n",
       "    }\n",
       "\n",
       "    .dataframe tbody tr th {\n",
       "        vertical-align: top;\n",
       "    }\n",
       "\n",
       "    .dataframe thead th {\n",
       "        text-align: right;\n",
       "    }\n",
       "</style>\n",
       "<table border=\"1\" class=\"dataframe\">\n",
       "  <thead>\n",
       "    <tr style=\"text-align: right;\">\n",
       "      <th></th>\n",
       "      <th>ItemID</th>\n",
       "      <th>Sentiment</th>\n",
       "      <th>SentimentSource</th>\n",
       "      <th>SentimentText</th>\n",
       "      <th>Unnamed: 4</th>\n",
       "      <th>Unnamed: 5</th>\n",
       "      <th>Unnamed: 6</th>\n",
       "    </tr>\n",
       "  </thead>\n",
       "  <tbody>\n",
       "    <tr>\n",
       "      <th>0</th>\n",
       "      <td>1</td>\n",
       "      <td>0</td>\n",
       "      <td>Sentiment140</td>\n",
       "      <td>is so sad for my APL frie...</td>\n",
       "      <td>NaN</td>\n",
       "      <td>NaN</td>\n",
       "      <td>NaN</td>\n",
       "    </tr>\n",
       "    <tr>\n",
       "      <th>1</th>\n",
       "      <td>2</td>\n",
       "      <td>0</td>\n",
       "      <td>Sentiment140</td>\n",
       "      <td>I missed the New Moon trail...</td>\n",
       "      <td>NaN</td>\n",
       "      <td>NaN</td>\n",
       "      <td>NaN</td>\n",
       "    </tr>\n",
       "    <tr>\n",
       "      <th>2</th>\n",
       "      <td>3</td>\n",
       "      <td>1</td>\n",
       "      <td>Sentiment140</td>\n",
       "      <td>omg its already 7:30 :O</td>\n",
       "      <td>NaN</td>\n",
       "      <td>NaN</td>\n",
       "      <td>NaN</td>\n",
       "    </tr>\n",
       "    <tr>\n",
       "      <th>3</th>\n",
       "      <td>4</td>\n",
       "      <td>0</td>\n",
       "      <td>Sentiment140</td>\n",
       "      <td>.. Omgaga. Im sooo  im gunna CRy. I'...</td>\n",
       "      <td>NaN</td>\n",
       "      <td>NaN</td>\n",
       "      <td>NaN</td>\n",
       "    </tr>\n",
       "    <tr>\n",
       "      <th>4</th>\n",
       "      <td>5</td>\n",
       "      <td>0</td>\n",
       "      <td>Sentiment140</td>\n",
       "      <td>i think mi bf is cheating on me!!!   ...</td>\n",
       "      <td>NaN</td>\n",
       "      <td>NaN</td>\n",
       "      <td>NaN</td>\n",
       "    </tr>\n",
       "    <tr>\n",
       "      <th>5</th>\n",
       "      <td>6</td>\n",
       "      <td>0</td>\n",
       "      <td>Sentiment140</td>\n",
       "      <td>or i just worry too much?</td>\n",
       "      <td>NaN</td>\n",
       "      <td>NaN</td>\n",
       "      <td>NaN</td>\n",
       "    </tr>\n",
       "    <tr>\n",
       "      <th>6</th>\n",
       "      <td>7</td>\n",
       "      <td>1</td>\n",
       "      <td>Sentiment140</td>\n",
       "      <td>Juuuuuuuuuuuuuuuuussssst Chillin!!</td>\n",
       "      <td>NaN</td>\n",
       "      <td>NaN</td>\n",
       "      <td>NaN</td>\n",
       "    </tr>\n",
       "    <tr>\n",
       "      <th>7</th>\n",
       "      <td>8</td>\n",
       "      <td>0</td>\n",
       "      <td>Sentiment140</td>\n",
       "      <td>Sunny Again        Work Tomorrow  :-|  ...</td>\n",
       "      <td>NaN</td>\n",
       "      <td>NaN</td>\n",
       "      <td>NaN</td>\n",
       "    </tr>\n",
       "    <tr>\n",
       "      <th>8</th>\n",
       "      <td>9</td>\n",
       "      <td>1</td>\n",
       "      <td>Sentiment140</td>\n",
       "      <td>handed in my uniform today . i miss you ...</td>\n",
       "      <td>NaN</td>\n",
       "      <td>NaN</td>\n",
       "      <td>NaN</td>\n",
       "    </tr>\n",
       "    <tr>\n",
       "      <th>9</th>\n",
       "      <td>10</td>\n",
       "      <td>1</td>\n",
       "      <td>Sentiment140</td>\n",
       "      <td>hmmmm.... i wonder how she my number @-)</td>\n",
       "      <td>NaN</td>\n",
       "      <td>NaN</td>\n",
       "      <td>NaN</td>\n",
       "    </tr>\n",
       "  </tbody>\n",
       "</table>\n",
       "</div>"
      ],
      "text/plain": [
       "   ItemID  Sentiment SentimentSource  \\\n",
       "0       1          0    Sentiment140   \n",
       "1       2          0    Sentiment140   \n",
       "2       3          1    Sentiment140   \n",
       "3       4          0    Sentiment140   \n",
       "4       5          0    Sentiment140   \n",
       "5       6          0    Sentiment140   \n",
       "6       7          1    Sentiment140   \n",
       "7       8          0    Sentiment140   \n",
       "8       9          1    Sentiment140   \n",
       "9      10          1    Sentiment140   \n",
       "\n",
       "                                       SentimentText Unnamed: 4 Unnamed: 5  \\\n",
       "0                       is so sad for my APL frie...        NaN        NaN   \n",
       "1                     I missed the New Moon trail...        NaN        NaN   \n",
       "2                            omg its already 7:30 :O        NaN        NaN   \n",
       "3            .. Omgaga. Im sooo  im gunna CRy. I'...        NaN        NaN   \n",
       "4           i think mi bf is cheating on me!!!   ...        NaN        NaN   \n",
       "5                  or i just worry too much?                NaN        NaN   \n",
       "6                 Juuuuuuuuuuuuuuuuussssst Chillin!!        NaN        NaN   \n",
       "7         Sunny Again        Work Tomorrow  :-|  ...        NaN        NaN   \n",
       "8        handed in my uniform today . i miss you ...        NaN        NaN   \n",
       "9           hmmmm.... i wonder how she my number @-)        NaN        NaN   \n",
       "\n",
       "  Unnamed: 6  \n",
       "0        NaN  \n",
       "1        NaN  \n",
       "2        NaN  \n",
       "3        NaN  \n",
       "4        NaN  \n",
       "5        NaN  \n",
       "6        NaN  \n",
       "7        NaN  \n",
       "8        NaN  \n",
       "9        NaN  "
      ]
     },
     "execution_count": 17,
     "metadata": {},
     "output_type": "execute_result"
    }
   ],
   "source": [
    "tweets=pd.read_csv('data/tweets_Sanders.csv', sep=',',low_memory=False)\n",
    "tweets.head(10)"
   ]
  },
  {
   "cell_type": "code",
   "execution_count": 18,
   "metadata": {},
   "outputs": [
    {
     "data": {
      "text/html": [
       "<div>\n",
       "<style scoped>\n",
       "    .dataframe tbody tr th:only-of-type {\n",
       "        vertical-align: middle;\n",
       "    }\n",
       "\n",
       "    .dataframe tbody tr th {\n",
       "        vertical-align: top;\n",
       "    }\n",
       "\n",
       "    .dataframe thead th {\n",
       "        text-align: right;\n",
       "    }\n",
       "</style>\n",
       "<table border=\"1\" class=\"dataframe\">\n",
       "  <thead>\n",
       "    <tr style=\"text-align: right;\">\n",
       "      <th></th>\n",
       "      <th>Sentiment</th>\n",
       "      <th>SentimentText</th>\n",
       "    </tr>\n",
       "  </thead>\n",
       "  <tbody>\n",
       "    <tr>\n",
       "      <th>0</th>\n",
       "      <td>0</td>\n",
       "      <td>is so sad for my APL frie...</td>\n",
       "    </tr>\n",
       "    <tr>\n",
       "      <th>1</th>\n",
       "      <td>0</td>\n",
       "      <td>I missed the New Moon trail...</td>\n",
       "    </tr>\n",
       "    <tr>\n",
       "      <th>2</th>\n",
       "      <td>1</td>\n",
       "      <td>omg its already 7:30 :O</td>\n",
       "    </tr>\n",
       "    <tr>\n",
       "      <th>3</th>\n",
       "      <td>0</td>\n",
       "      <td>.. Omgaga. Im sooo  im gunna CRy. I'...</td>\n",
       "    </tr>\n",
       "    <tr>\n",
       "      <th>4</th>\n",
       "      <td>0</td>\n",
       "      <td>i think mi bf is cheating on me!!!   ...</td>\n",
       "    </tr>\n",
       "  </tbody>\n",
       "</table>\n",
       "</div>"
      ],
      "text/plain": [
       "   Sentiment                                      SentimentText\n",
       "0          0                       is so sad for my APL frie...\n",
       "1          0                     I missed the New Moon trail...\n",
       "2          1                            omg its already 7:30 :O\n",
       "3          0            .. Omgaga. Im sooo  im gunna CRy. I'...\n",
       "4          0           i think mi bf is cheating on me!!!   ..."
      ]
     },
     "execution_count": 18,
     "metadata": {},
     "output_type": "execute_result"
    }
   ],
   "source": [
    "# Select only interesting columns.\n",
    "data = tweets[['Sentiment','SentimentText']]\n",
    "data.head(5)"
   ]
  },
  {
   "cell_type": "code",
   "execution_count": 19,
   "metadata": {},
   "outputs": [
    {
     "data": {
      "text/html": [
       "<div>\n",
       "<style scoped>\n",
       "    .dataframe tbody tr th:only-of-type {\n",
       "        vertical-align: middle;\n",
       "    }\n",
       "\n",
       "    .dataframe tbody tr th {\n",
       "        vertical-align: top;\n",
       "    }\n",
       "\n",
       "    .dataframe thead th {\n",
       "        text-align: right;\n",
       "    }\n",
       "</style>\n",
       "<table border=\"1\" class=\"dataframe\">\n",
       "  <thead>\n",
       "    <tr style=\"text-align: right;\">\n",
       "      <th></th>\n",
       "      <th>count</th>\n",
       "      <th>mean</th>\n",
       "      <th>std</th>\n",
       "      <th>min</th>\n",
       "      <th>25%</th>\n",
       "      <th>50%</th>\n",
       "      <th>75%</th>\n",
       "      <th>max</th>\n",
       "    </tr>\n",
       "    <tr>\n",
       "      <th>Sentiment</th>\n",
       "      <th></th>\n",
       "      <th></th>\n",
       "      <th></th>\n",
       "      <th></th>\n",
       "      <th></th>\n",
       "      <th></th>\n",
       "      <th></th>\n",
       "      <th></th>\n",
       "    </tr>\n",
       "  </thead>\n",
       "  <tbody>\n",
       "    <tr>\n",
       "      <th>0</th>\n",
       "      <td>494105.0</td>\n",
       "      <td>0.0</td>\n",
       "      <td>0.0</td>\n",
       "      <td>0.0</td>\n",
       "      <td>0.0</td>\n",
       "      <td>0.0</td>\n",
       "      <td>0.0</td>\n",
       "      <td>0.0</td>\n",
       "    </tr>\n",
       "    <tr>\n",
       "      <th>1</th>\n",
       "      <td>554470.0</td>\n",
       "      <td>1.0</td>\n",
       "      <td>0.0</td>\n",
       "      <td>1.0</td>\n",
       "      <td>1.0</td>\n",
       "      <td>1.0</td>\n",
       "      <td>1.0</td>\n",
       "      <td>1.0</td>\n",
       "    </tr>\n",
       "  </tbody>\n",
       "</table>\n",
       "</div>"
      ],
      "text/plain": [
       "              count  mean  std  min  25%  50%  75%  max\n",
       "Sentiment                                              \n",
       "0          494105.0   0.0  0.0  0.0  0.0  0.0  0.0  0.0\n",
       "1          554470.0   1.0  0.0  1.0  1.0  1.0  1.0  1.0"
      ]
     },
     "execution_count": 19,
     "metadata": {},
     "output_type": "execute_result"
    }
   ],
   "source": [
    "# summary statistics\n",
    "byclass = data.groupby('Sentiment')\n",
    "byclass['Sentiment'].describe()"
   ]
  },
  {
   "cell_type": "markdown",
   "metadata": {},
   "source": [
    "**The original dataset has around 1.5 million tweets. We will only use a subset of it in this tutorial.**"
   ]
  },
  {
   "cell_type": "code",
   "execution_count": 32,
   "metadata": {},
   "outputs": [
    {
     "data": {
      "text/html": [
       "<div>\n",
       "<style scoped>\n",
       "    .dataframe tbody tr th:only-of-type {\n",
       "        vertical-align: middle;\n",
       "    }\n",
       "\n",
       "    .dataframe tbody tr th {\n",
       "        vertical-align: top;\n",
       "    }\n",
       "\n",
       "    .dataframe thead th {\n",
       "        text-align: right;\n",
       "    }\n",
       "</style>\n",
       "<table border=\"1\" class=\"dataframe\">\n",
       "  <thead>\n",
       "    <tr style=\"text-align: right;\">\n",
       "      <th></th>\n",
       "      <th>count</th>\n",
       "      <th>mean</th>\n",
       "      <th>std</th>\n",
       "      <th>min</th>\n",
       "      <th>25%</th>\n",
       "      <th>50%</th>\n",
       "      <th>75%</th>\n",
       "      <th>max</th>\n",
       "    </tr>\n",
       "    <tr>\n",
       "      <th>Sentiment</th>\n",
       "      <th></th>\n",
       "      <th></th>\n",
       "      <th></th>\n",
       "      <th></th>\n",
       "      <th></th>\n",
       "      <th></th>\n",
       "      <th></th>\n",
       "      <th></th>\n",
       "    </tr>\n",
       "  </thead>\n",
       "  <tbody>\n",
       "    <tr>\n",
       "      <th>0</th>\n",
       "      <td>49629.0</td>\n",
       "      <td>0.0</td>\n",
       "      <td>0.0</td>\n",
       "      <td>0.0</td>\n",
       "      <td>0.0</td>\n",
       "      <td>0.0</td>\n",
       "      <td>0.0</td>\n",
       "      <td>0.0</td>\n",
       "    </tr>\n",
       "    <tr>\n",
       "      <th>1</th>\n",
       "      <td>55229.0</td>\n",
       "      <td>1.0</td>\n",
       "      <td>0.0</td>\n",
       "      <td>1.0</td>\n",
       "      <td>1.0</td>\n",
       "      <td>1.0</td>\n",
       "      <td>1.0</td>\n",
       "      <td>1.0</td>\n",
       "    </tr>\n",
       "  </tbody>\n",
       "</table>\n",
       "</div>"
      ],
      "text/plain": [
       "             count  mean  std  min  25%  50%  75%  max\n",
       "Sentiment                                             \n",
       "0          49629.0   0.0  0.0  0.0  0.0  0.0  0.0  0.0\n",
       "1          55229.0   1.0  0.0  1.0  1.0  1.0  1.0  1.0"
      ]
     },
     "execution_count": 32,
     "metadata": {},
     "output_type": "execute_result"
    }
   ],
   "source": [
    "# set random seed for output reproduction.\n",
    "seed = 7\n",
    "np.random.seed(seed)\n",
    "\n",
    "# random sample from the original dataset.\n",
    "datasub=data.sample(frac=0.1, replace=True)\n",
    "\n",
    "# summary statistics\n",
    "byclass = datasub.groupby('Sentiment')\n",
    "byclass['Sentiment'].describe()"
   ]
  },
  {
   "cell_type": "markdown",
   "metadata": {},
   "source": [
    "### Text preprocessing"
   ]
  },
  {
   "cell_type": "code",
   "execution_count": 33,
   "metadata": {},
   "outputs": [],
   "source": [
    "# convert to lower case \n",
    "datasub['SentimentText'] = datasub['SentimentText'].apply(lambda x: x.lower())\n",
    "\n",
    "# remove urls, user mentions, and hashtags\n",
    "datasub['SentimentText'] = datasub['SentimentText'].apply((lambda x: re.sub('(@[A-Za-z0-9]+)|([^0-9A-Za-z \\t])|(\\w+:\\/\\/\\S+)|(#[A-Za-z0-9]+)','',x)))"
   ]
  },
  {
   "cell_type": "code",
   "execution_count": 34,
   "metadata": {},
   "outputs": [],
   "source": [
    "# create a dupliate column of tweets\n",
    "datasub['clean']=datasub['SentimentText']"
   ]
  },
  {
   "cell_type": "code",
   "execution_count": 35,
   "metadata": {},
   "outputs": [],
   "source": [
    "# remove stopwords\n",
    "# if you want to remove extra stopwords in tweets, see the list in https://sites.google.com/site/iamgongwei/home/sw.\n",
    "from nltk.corpus import stopwords\n",
    "stopwords = stopwords.words('english')\n",
    "datasub['clean']=datasub.clean.apply(lambda x: ' '.join([word for word in x.split() if word not in (stopwords)]))\n",
    "\n",
    "# remove numbers and other non-words\n",
    "datasub['clean']=datasub.clean.str.replace('[^a-zA-Z]+', ' ')"
   ]
  },
  {
   "cell_type": "code",
   "execution_count": 36,
   "metadata": {},
   "outputs": [
    {
     "data": {
      "text/plain": [
       "585903                                doc grandma shes sick\n",
       "189636    w lol wish could read tweets small dose get lo...\n",
       "573977     family learning workshops week clay plaques b...\n",
       "535030                god damn superduper chronic insomniac\n",
       "759363    going uncles house place week ago come argenti...\n",
       "839891                            adore computer crazy slow\n",
       "328599                     next week dz bday weekend though\n",
       "79463     oh yum mine new zealand mount cass sauvignon b...\n",
       "886108                          im scince doning coursework\n",
       "650425    enjoying hamptonsvery relaxing saturdayall smi...\n",
       "Name: clean, dtype: object"
      ]
     },
     "execution_count": 36,
     "metadata": {},
     "output_type": "execute_result"
    }
   ],
   "source": [
    "datasub['clean'].head(10)"
   ]
  },
  {
   "cell_type": "code",
   "execution_count": 37,
   "metadata": {},
   "outputs": [],
   "source": [
    "# max_review_length is the number of unique words in the sequence.\n",
    "max_review_length=4000\n",
    "\n",
    "tokenizer = Tokenizer(num_words=max_review_length, split=' ')\n",
    "tokenizer.fit_on_texts(datasub['clean'].values)\n",
    "X = tokenizer.texts_to_sequences(datasub['clean'].values)\n",
    "X = pad_sequences(X)"
   ]
  },
  {
   "cell_type": "code",
   "execution_count": 38,
   "metadata": {},
   "outputs": [
    {
     "data": {
      "text/plain": [
       "(104858, 28)"
      ]
     },
     "execution_count": 38,
     "metadata": {},
     "output_type": "execute_result"
    }
   ],
   "source": [
    "# check the input shape\n",
    "X.shape"
   ]
  },
  {
   "cell_type": "markdown",
   "metadata": {},
   "source": [
    "* The shape returns to the dimensions of the array. x.shape[0] is the number of rows. x.shape[1] is the number of columns.\n",
    "* input shape= X.shape[1] in this example.\n",
    "* Regarless how many rows of tweets we have, each tweet has the same shape."
   ]
  },
  {
   "cell_type": "markdown",
   "metadata": {},
   "source": [
    "## Simple LSTM"
   ]
  },
  {
   "cell_type": "markdown",
   "metadata": {},
   "source": [
    "### Step 1: Build a Sequential model with one layer of LSTM"
   ]
  },
  {
   "cell_type": "code",
   "execution_count": 55,
   "metadata": {},
   "outputs": [
    {
     "name": "stdout",
     "output_type": "stream",
     "text": [
      "_________________________________________________________________\n",
      "Layer (type)                 Output Shape              Param #   \n",
      "=================================================================\n",
      "embedding_4 (Embedding)      (None, 28, 28)            112000    \n",
      "_________________________________________________________________\n",
      "dropout_4 (Dropout)          (None, 28, 28)            0         \n",
      "_________________________________________________________________\n",
      "lstm_6 (LSTM)                (None, 32)                7808      \n",
      "_________________________________________________________________\n",
      "dense_4 (Dense)              (None, 2)                 66        \n",
      "=================================================================\n",
      "Total params: 119,874\n",
      "Trainable params: 119,874\n",
      "Non-trainable params: 0\n",
      "_________________________________________________________________\n",
      "None\n"
     ]
    }
   ],
   "source": [
    "embedding_vecor_length = 28\n",
    "# In this case, the unique 4000 words can create tweet of maximum 23 unique words. \n",
    "# Now, we turn each of these 22 words into vector of size 16.\n",
    "\n",
    "lstm_dim = 32\n",
    "# return a single vector of dimension 32\n",
    "\n",
    "model = Sequential()\n",
    "\n",
    "# input layer with the dropout rate=0.2\n",
    "model.add(Embedding(max_review_length, embedding_vecor_length ,input_length = X.shape[1]))\n",
    "model.add(Dropout(0.5))\n",
    "\n",
    "# first hidden layer\n",
    "model.add(LSTM(lstm_dim, dropout=0.2, recurrent_dropout=0.2)) \n",
    "# the input dropout rate is 0.2 and the recurrent dropout is also 0.2.\n",
    "\n",
    "# output layer\n",
    "model.add(Dense(2,activation='softmax'))\n",
    "\n",
    "# compliation of the model\n",
    "model.compile(loss = 'categorical_crossentropy', optimizer='adam',metrics = ['accuracy'])\n",
    "\n",
    "# check the outlines of this sequential model.\n",
    "print(model.summary())\n"
   ]
  },
  {
   "cell_type": "markdown",
   "metadata": {},
   "source": [
    "References for the arguments in the layers:\n",
    "\n",
    "* https://stackoverflow.com/questions/44747343/keras-input-explanation-input-shape-units-batch-size-dim-etc\n",
    "* https://stackoverflow.com/questions/45649520/explain-with-example-how-embedding-layers-in-keras-works\n",
    "* https://machinelearningmastery.com/reshape-input-data-long-short-term-memory-networks-keras/\n",
    "\n",
    "Make sure you know the meaning of those arguments when you build the layers."
   ]
  },
  {
   "cell_type": "markdown",
   "metadata": {},
   "source": [
    "### Step 2: Declare data"
   ]
  },
  {
   "cell_type": "code",
   "execution_count": 40,
   "metadata": {},
   "outputs": [
    {
     "data": {
      "text/plain": [
       "array([[1, 0],\n",
       "       [0, 1]], dtype=uint8)"
      ]
     },
     "execution_count": 40,
     "metadata": {},
     "output_type": "execute_result"
    }
   ],
   "source": [
    "# generate dummy columns for the categorial variable (sentiment score)\n",
    "Y = pd.get_dummies(datasub['Sentiment']).values\n",
    "Y[0:2]"
   ]
  },
  {
   "cell_type": "markdown",
   "metadata": {},
   "source": [
    "**We follow the diagram below to spilt the subsample into training/testing sets.**"
   ]
  },
  {
   "cell_type": "code",
   "execution_count": 41,
   "metadata": {},
   "outputs": [
    {
     "data": {
      "text/html": [
       "<img src =\"https://www.codeproject.com/KB/AI/1146582/validation.PNG\">"
      ],
      "text/plain": [
       "<IPython.core.display.HTML object>"
      ]
     },
     "metadata": {},
     "output_type": "display_data"
    }
   ],
   "source": [
    "%%html\n",
    "<img src =\"https://www.codeproject.com/KB/AI/1146582/validation.PNG\">"
   ]
  },
  {
   "cell_type": "code",
   "execution_count": 42,
   "metadata": {},
   "outputs": [
    {
     "name": "stdout",
     "output_type": "stream",
     "text": [
      "(70254, 28) (70254, 2)\n",
      "(34604, 28) (34604, 2)\n"
     ]
    }
   ],
   "source": [
    "# spilt data into training and testing sets.\n",
    "X_train, X_test, Y_train, Y_test = train_test_split(X,Y, test_size = 0.33, random_state = 7)\n",
    "\n",
    "# check the shape of each set\n",
    "print(X_train.shape,Y_train.shape)\n",
    "\n",
    "print(X_test.shape,Y_test.shape)"
   ]
  },
  {
   "cell_type": "code",
   "execution_count": 43,
   "metadata": {},
   "outputs": [],
   "source": [
    "# select 500 samples from the training data for validation\n",
    "X_val = X_train[:500]\n",
    "\n",
    "Y_val = Y_train[:500]\n",
    "\n",
    "# the rest becomes the final training set.\n",
    "\n",
    "partial_X_train = X_train[500:]\n",
    "\n",
    "partial_Y_train = Y_train[500:]"
   ]
  },
  {
   "cell_type": "markdown",
   "metadata": {
    "collapsed": true
   },
   "source": [
    "### Step 3: Fit the model"
   ]
  },
  {
   "cell_type": "code",
   "execution_count": 57,
   "metadata": {},
   "outputs": [
    {
     "name": "stdout",
     "output_type": "stream",
     "text": [
      "Train on 69754 samples, validate on 500 samples\n",
      "Epoch 1/10\n",
      "69754/69754 [==============================] - 79s 1ms/step - loss: 0.5483 - acc: 0.7164 - val_loss: 0.5209 - val_acc: 0.7300\n",
      "Epoch 2/10\n",
      "69754/69754 [==============================] - 15s 222us/step - loss: 0.4974 - acc: 0.7608 - val_loss: 0.5165 - val_acc: 0.7500\n",
      "Epoch 3/10\n",
      "69754/69754 [==============================] - 15s 220us/step - loss: 0.4853 - acc: 0.7690 - val_loss: 0.5222 - val_acc: 0.7440\n",
      "Epoch 4/10\n",
      "69754/69754 [==============================] - 15s 220us/step - loss: 0.4791 - acc: 0.7719 - val_loss: 0.5244 - val_acc: 0.7440\n",
      "Epoch 5/10\n",
      "69754/69754 [==============================] - 16s 224us/step - loss: 0.4736 - acc: 0.7747 - val_loss: 0.5169 - val_acc: 0.7480\n",
      "Epoch 6/10\n",
      "69754/69754 [==============================] - 15s 221us/step - loss: 0.4665 - acc: 0.7793 - val_loss: 0.5121 - val_acc: 0.7440\n",
      "Epoch 7/10\n",
      "69754/69754 [==============================] - 15s 220us/step - loss: 0.4618 - acc: 0.7801 - val_loss: 0.5120 - val_acc: 0.7380\n",
      "Epoch 8/10\n",
      "69754/69754 [==============================] - 15s 221us/step - loss: 0.4551 - acc: 0.7830 - val_loss: 0.5087 - val_acc: 0.7620\n",
      "Epoch 9/10\n",
      "69754/69754 [==============================] - 15s 220us/step - loss: 0.4486 - acc: 0.7873 - val_loss: 0.5000 - val_acc: 0.7600\n",
      "Epoch 10/10\n",
      "69754/69754 [==============================] - 16s 224us/step - loss: 0.4421 - acc: 0.7898 - val_loss: 0.4997 - val_acc: 0.7720\n"
     ]
    }
   ],
   "source": [
    "history = model.fit(partial_X_train, \n",
    "                    partial_Y_train,\n",
    "                    batch_size=50, # Algorithm takes 50 samples from the training set and trains the network each time.\n",
    "                    epochs = 10, #10 interations\n",
    "                    verbose=1, # report the progress of each interation.\n",
    "                    validation_data=(X_val, Y_val))"
   ]
  },
  {
   "cell_type": "markdown",
   "metadata": {},
   "source": [
    "### Step 4: Plot the loss and accuracy"
   ]
  },
  {
   "cell_type": "code",
   "execution_count": 58,
   "metadata": {},
   "outputs": [
    {
     "data": {
      "image/png": "[encoded data removed]",
      "text/plain": [
       "<matplotlib.figure.Figure at 0x1f8dda56cf8>"
      ]
     },
     "metadata": {},
     "output_type": "display_data"
    }
   ],
   "source": [
    "import matplotlib.pyplot as plt\n",
    "\n",
    "loss = history.history['loss']\n",
    "\n",
    "val_loss = history.history['val_loss']\n",
    "\n",
    "epochs = range(1, len(loss) + 1)\n",
    "\n",
    "plt.plot(epochs, loss, 'bo', label='Training loss')\n",
    "\n",
    "plt.plot(epochs, val_loss, 'b', label='Validation loss')\n",
    "\n",
    "plt.title('Training and validation loss')\n",
    "\n",
    "plt.xlabel('Epochs')\n",
    "\n",
    "plt.ylabel('Loss')\n",
    "\n",
    "plt.legend()\n",
    "\n",
    "plt.show()"
   ]
  },
  {
   "cell_type": "code",
   "execution_count": 59,
   "metadata": {},
   "outputs": [
    {
     "data": {
      "image/png": "[encoded data removed]",
      "text/plain": [
       "<matplotlib.figure.Figure at 0x1f8dd936e10>"
      ]
     },
     "metadata": {},
     "output_type": "display_data"
    }
   ],
   "source": [
    "plt.clf()\n",
    "\n",
    "acc = history.history['acc']\n",
    "\n",
    "val_acc = history.history['val_acc']\n",
    "\n",
    "plt.plot(epochs, acc, 'bo', label='Training acc')\n",
    "\n",
    "plt.plot(epochs, val_acc, 'b', label='Validation acc')\n",
    "\n",
    "plt.title('Training and validation accuracy')\n",
    "\n",
    "plt.xlabel('Epochs')\n",
    "\n",
    "plt.ylabel('Accuracy')\n",
    "\n",
    "plt.legend()\n",
    "\n",
    "plt.show()"
   ]
  },
  {
   "cell_type": "markdown",
   "metadata": {},
   "source": [
    "### step 5: Final Performance Evaluation"
   ]
  },
  {
   "cell_type": "code",
   "execution_count": 60,
   "metadata": {},
   "outputs": [
    {
     "name": "stdout",
     "output_type": "stream",
     "text": [
      "34604/34604 [==============================] - 2s 49us/step\n",
      "Accuracy: 76.16%\n"
     ]
    }
   ],
   "source": [
    "score = model.evaluate(X_test,Y_test, verbose=1)\n",
    "print(\"Accuracy: %.2f%%\" % (score[1]*100))"
   ]
  },
  {
   "cell_type": "code",
   "execution_count": 61,
   "metadata": {},
   "outputs": [
    {
     "name": "stdout",
     "output_type": "stream",
     "text": [
      "positive_acc 82.64150943396227 %\n",
      "negative_acc 71.06382978723404 %\n"
     ]
    }
   ],
   "source": [
    "pos_cnt, neg_cnt, pos_correct, neg_correct = 0, 0, 0, 0\n",
    "for x in range(len(X_val)):\n",
    "    \n",
    "    result = model.predict(X_val[x].reshape(1,X_test.shape[1]),batch_size=1,verbose = 2)[0]\n",
    "   \n",
    "    if np.argmax(result) == np.argmax(Y_val[x]):\n",
    "        if np.argmax(Y_val[x]) == 0:\n",
    "            neg_correct += 1\n",
    "        else:\n",
    "            pos_correct += 1\n",
    "       \n",
    "    if np.argmax(Y_val[x]) == 0:\n",
    "        neg_cnt += 1\n",
    "    else:\n",
    "        pos_cnt += 1\n",
    "\n",
    "\n",
    "\n",
    "print(\"positive_acc\", pos_correct/pos_cnt*100, \"%\")\n",
    "print(\"negative_acc\", neg_correct/neg_cnt*100, \"%\")\n",
    "\n",
    "# see: https://dzone.com/articles/sentiment-analysis-on-us-twitter-airlines-dataset"
   ]
  },
  {
   "cell_type": "markdown",
   "metadata": {},
   "source": [
    "## Stacked LSTM"
   ]
  },
  {
   "cell_type": "markdown",
   "metadata": {},
   "source": [
    "### Step 1: Reshape the data to fit the 3D tensor in stacked-LSTM network."
   ]
  },
  {
   "cell_type": "code",
   "execution_count": 62,
   "metadata": {},
   "outputs": [
    {
     "name": "stdout",
     "output_type": "stream",
     "text": [
      "(35127, 2, 28) (35127, 2, 2)\n",
      "(17302, 2, 28) (17302, 2, 2)\n"
     ]
    }
   ],
   "source": [
    "# reshape the vector from 2D to 3D to fit the stacked-LSTM model.\n",
    "# Thus, shape changes say from (104858, 28) to (52429,2,28),because 52429*2=104858.\n",
    "\n",
    "timesteps =2\n",
    "\n",
    "#reshape input\n",
    "x_train_s= X_train.reshape(int(X_train.shape[0]/timesteps), timesteps, X_train.shape[1])\n",
    "y_train_s= Y_train.reshape(int(Y_train.shape[0]/timesteps), timesteps, Y_train.shape[1])\n",
    "\n",
    "x_test_s=X_test.reshape(int(X_test.shape[0]/timesteps), timesteps, X_test.shape[1])\n",
    "y_test_s=Y_test.reshape(int(Y_test.shape[0]/timesteps), timesteps, Y_test.shape[1])\n",
    "\n",
    "print(x_train_s.shape,y_train_s.shape)\n",
    "\n",
    "print(x_test_s.shape,y_test_s.shape)"
   ]
  },
  {
   "cell_type": "markdown",
   "metadata": {},
   "source": [
    "### Step 2: Build a Sequential model with stacked LSTM."
   ]
  },
  {
   "cell_type": "code",
   "execution_count": 50,
   "metadata": {},
   "outputs": [
    {
     "name": "stdout",
     "output_type": "stream",
     "text": [
      "_________________________________________________________________\n",
      "Layer (type)                 Output Shape              Param #   \n",
      "=================================================================\n",
      "lstm_3 (LSTM)                (None, 2, 32)             7808      \n",
      "_________________________________________________________________\n",
      "lstm_4 (LSTM)                (None, 2, 32)             8320      \n",
      "_________________________________________________________________\n",
      "lstm_5 (LSTM)                (None, 2, 32)             8320      \n",
      "_________________________________________________________________\n",
      "dense_3 (Dense)              (None, 2, 2)              66        \n",
      "=================================================================\n",
      "Total params: 24,514\n",
      "Trainable params: 24,514\n",
      "Non-trainable params: 0\n",
      "_________________________________________________________________\n",
      "None\n"
     ]
    }
   ],
   "source": [
    "# Here, we follow the Keras documentation to build a 3-stack LSTM model.\n",
    "model_s = Sequential()\n",
    "\n",
    "# input layer with the dropout rate=50%\n",
    "model.add(Embedding(max_review_length, embedding_vecor_length ,input_length = X.shape[1])) \n",
    "model.add(Dropout(0.5))\n",
    "\n",
    "# first stack LSTM layer, we expect it checks 2 points of observation in each tweet and 16 features at each time step.\n",
    "model_s.add(LSTM(lstm_dim,dropout=0.2, recurrent_dropout=0.2, return_sequences=True, input_shape=(2,28))) \n",
    "\n",
    "# second stack \n",
    "model_s.add(LSTM(lstm_dim, dropout=0.2, recurrent_dropout=0.2,return_sequences=True))  \n",
    "\n",
    "# third stack \n",
    "model_s.add(LSTM(lstm_dim, return_sequences=True))  \n",
    "\n",
    "#output layer\n",
    "model_s.add(Dense(2, activation='softmax'))\n",
    "\n",
    "#compliation\n",
    "model_s.compile(loss='categorical_crossentropy',optimizer='adam',metrics=['accuracy'])\n",
    "            \n",
    "print(model_s.summary())"
   ]
  },
  {
   "cell_type": "markdown",
   "metadata": {},
   "source": [
    "### Step 3: Reset the training, validatation, and testing datasets."
   ]
  },
  {
   "cell_type": "code",
   "execution_count": 51,
   "metadata": {},
   "outputs": [],
   "source": [
    "# select some for training\n",
    "\n",
    "x_val_s = x_train_s[:500]\n",
    "\n",
    "y_val_s= y_train_s[:500]\n",
    "\n",
    "# select some for training\n",
    "\n",
    "partial_x_train_s = x_train_s[500:]\n",
    "\n",
    "partial_y_train_s = y_train_s[500:]"
   ]
  },
  {
   "cell_type": "markdown",
   "metadata": {},
   "source": [
    "### Step 4: Fit the stacked model"
   ]
  },
  {
   "cell_type": "code",
   "execution_count": 52,
   "metadata": {},
   "outputs": [
    {
     "name": "stdout",
     "output_type": "stream",
     "text": [
      "Train on 34627 samples, validate on 500 samples\n",
      "Epoch 1/10\n",
      "34627/34627 [==============================] - 50s 1ms/step - loss: 0.6916 - acc: 0.5244 - val_loss: 0.6903 - val_acc: 0.5220\n",
      "Epoch 2/10\n",
      "34627/34627 [==============================] - 2s 59us/step - loss: 0.6909 - acc: 0.5287 - val_loss: 0.6892 - val_acc: 0.5250\n",
      "Epoch 3/10\n",
      "34627/34627 [==============================] - 2s 59us/step - loss: 0.6902 - acc: 0.5303 - val_loss: 0.6888 - val_acc: 0.5410\n",
      "Epoch 4/10\n",
      "34627/34627 [==============================] - 2s 59us/step - loss: 0.6904 - acc: 0.5308 - val_loss: 0.6894 - val_acc: 0.5370\n",
      "Epoch 5/10\n",
      "34627/34627 [==============================] - 2s 59us/step - loss: 0.6903 - acc: 0.5276 - val_loss: 0.6902 - val_acc: 0.5350\n",
      "Epoch 6/10\n",
      "34627/34627 [==============================] - 2s 60us/step - loss: 0.6903 - acc: 0.5316 - val_loss: 0.6911 - val_acc: 0.5410\n",
      "Epoch 7/10\n",
      "34627/34627 [==============================] - 2s 61us/step - loss: 0.6898 - acc: 0.5322 - val_loss: 0.6909 - val_acc: 0.5340\n",
      "Epoch 8/10\n",
      "34627/34627 [==============================] - 2s 60us/step - loss: 0.6897 - acc: 0.5331 - val_loss: 0.6916 - val_acc: 0.5220\n",
      "Epoch 9/10\n",
      "34627/34627 [==============================] - 2s 60us/step - loss: 0.6897 - acc: 0.5339 - val_loss: 0.6912 - val_acc: 0.5410\n",
      "Epoch 10/10\n",
      "34627/34627 [==============================] - 2s 61us/step - loss: 0.6895 - acc: 0.5342 - val_loss: 0.6908 - val_acc: 0.5420\n"
     ]
    }
   ],
   "source": [
    "history_s = model_s.fit(partial_x_train_s, \n",
    "                    partial_y_train_s,\n",
    "                    batch_size=50,\n",
    "                    epochs = 10, \n",
    "                    verbose=1, \n",
    "                    validation_data=(x_val_s,y_val_s),shuffle=False)"
   ]
  },
  {
   "cell_type": "markdown",
   "metadata": {},
   "source": [
    "* The accuracy of the stacked model is round 0.53 which is much better than flipping the coin. To improve the accuracy, we might need to put more data into the training set, and tune the arguments in the layers."
   ]
  },
  {
   "cell_type": "markdown",
   "metadata": {},
   "source": [
    "### How To Improve Deep Learning Performance?"
   ]
  },
  {
   "cell_type": "markdown",
   "metadata": {},
   "source": [
    "* Improve Performance With Data.\n",
    "* Improve Performance With Algorithms.\n",
    "* Improve Performance With Algorithm Tuning.\n",
    "* Improve Performance With Ensembles.\n",
    "\n",
    "Check this out: https://machinelearningmastery.com/improve-deep-learning-performance/"
   ]
  },
  {
   "cell_type": "code",
   "execution_count": null,
   "metadata": {},
   "outputs": [],
   "source": []
  }
 ],
 "metadata": {
  "kernelspec": {
   "display_name": "Python 3",
   "language": "python",
   "name": "python3"
  },
  "language_info": {
   "codemirror_mode": {
    "name": "ipython",
    "version": 3
   },
   "file_extension": ".py",
   "mimetype": "text/x-python",
   "name": "python",
   "nbconvert_exporter": "python",
   "pygments_lexer": "ipython3",
   "version": "3.6.4"
  }
 },
 "nbformat": 4,
 "nbformat_minor": 2
}
